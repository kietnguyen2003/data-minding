{
 "cells": [
  {
   "cell_type": "code",
   "execution_count": 40,
   "metadata": {},
   "outputs": [],
   "source": [
    "import pandas as pd\n",
    "import numpy as np\n",
    "from sklearn.model_selection import train_test_split"
   ]
  },
  {
   "cell_type": "markdown",
   "metadata": {},
   "source": [
    "### Read data\n",
    "First we have to read data from csv file"
   ]
  },
  {
   "cell_type": "code",
   "execution_count": 41,
   "metadata": {},
   "outputs": [
    {
     "name": "stdout",
     "output_type": "stream",
     "text": [
      "           age education-num   relationship         occupation capital-gain   \n",
      "0  Middle-aged          High  Not-in-family       Adm-clerical     Has Gain  \\\n",
      "1  Middle-aged          High        Husband    Exec-managerial      No Gain   \n",
      "2  Middle-aged        Medium  Not-in-family  Handlers-cleaners      No Gain   \n",
      "3  Middle-aged           Low        Husband  Handlers-cleaners      No Gain   \n",
      "4        Young          High           Wife     Prof-specialty      No Gain   \n",
      "\n",
      "  capital-loss hours-per-week  income  \n",
      "0      No Loss       Overtime       0  \n",
      "1      No Loss      Part-time       0  \n",
      "2      No Loss       Overtime       0  \n",
      "3      No Loss       Overtime       0  \n",
      "4      No Loss       Overtime       0  \n",
      "Dữ liệu sau khi mã hóa:\n",
      "   age_Middle-aged  age_Senior  age_Young  relationship_Husband   \n",
      "0             True       False      False                 False  \\\n",
      "1             True       False      False                  True   \n",
      "2             True       False      False                 False   \n",
      "3             True       False      False                  True   \n",
      "4            False       False       True                 False   \n",
      "\n",
      "   relationship_Not-in-family  relationship_Other-relative   \n",
      "0                        True                        False  \\\n",
      "1                       False                        False   \n",
      "2                        True                        False   \n",
      "3                       False                        False   \n",
      "4                       False                        False   \n",
      "\n",
      "   relationship_Own-child  relationship_Unmarried  relationship_Wife   \n",
      "0                   False                   False              False  \\\n",
      "1                   False                   False              False   \n",
      "2                   False                   False              False   \n",
      "3                   False                   False              False   \n",
      "4                   False                   False               True   \n",
      "\n",
      "   occupation_Adm-clerical  ...  capital-gain_Has Gain  capital-gain_No Gain   \n",
      "0                     True  ...                   True                 False  \\\n",
      "1                    False  ...                  False                  True   \n",
      "2                    False  ...                  False                  True   \n",
      "3                    False  ...                  False                  True   \n",
      "4                    False  ...                  False                  True   \n",
      "\n",
      "   capital-loss_Has Loss  capital-loss_No Loss  hours-per-week_Full-time   \n",
      "0                  False                  True                     False  \\\n",
      "1                  False                  True                     False   \n",
      "2                  False                  True                     False   \n",
      "3                  False                  True                     False   \n",
      "4                  False                  True                     False   \n",
      "\n",
      "   hours-per-week_Overtime  hours-per-week_Part-time  education-num_High   \n",
      "0                     True                     False                True  \\\n",
      "1                    False                      True                True   \n",
      "2                     True                     False               False   \n",
      "3                     True                     False               False   \n",
      "4                     True                     False                True   \n",
      "\n",
      "   education-num_Low  education-num_Medium  \n",
      "0              False                 False  \n",
      "1              False                 False  \n",
      "2              False                  True  \n",
      "3               True                 False  \n",
      "4              False                 False  \n",
      "\n",
      "[5 rows x 33 columns]\n",
      "Kích thước tập huấn luyện: (22775, 33)\n",
      "Kích thước tập kiểm tra: (9762, 33)\n"
     ]
    }
   ],
   "source": [
    "# 1. Đọc dữ liệu từ file CSV\n",
    "df = pd.read_csv(\"adult_preprocessed.csv\")\n",
    "# 2. Tách đặc trưng và biến mục tiêu\n",
    "X = df.drop('income', axis=1)  # Đặc trưng\n",
    "y = df['income']  # Biến mục tiêu (0: <=50K, 1: >50K)\n",
    "\n",
    "print(df.head())\n",
    "\n",
    "# 3. Mã hóa các cột phân loại\n",
    "categorical_cols = ['age', 'relationship', 'occupation', 'capital-gain', 'capital-loss', 'hours-per-week', 'education-num']\n",
    "X_encoded = pd.get_dummies(X, columns=categorical_cols)\n",
    "print(\"Dữ liệu sau khi mã hóa:\")\n",
    "print(X_encoded.head())\n",
    "\n",
    "# 4. Chia dữ liệu\n",
    "X_train, X_test, y_train, y_test = train_test_split(\n",
    "    X_encoded, y,\n",
    "    test_size=0.3,  \n",
    "    random_state=42,  \n",
    "    stratify=y,  \n",
    "    shuffle=True \n",
    ")\n",
    "\n",
    "print(f\"Kích thước tập huấn luyện: {X_train.shape}\")\n",
    "print(f\"Kích thước tập kiểm tra: {X_test.shape}\")"
   ]
  },
  {
   "cell_type": "markdown",
   "metadata": {},
   "source": [
    "### Classification algorithms implementation"
   ]
  },
  {
   "cell_type": "markdown",
   "metadata": {},
   "source": [
    "#### Decision Tree"
   ]
  },
  {
   "cell_type": "code",
   "execution_count": 42,
   "metadata": {},
   "outputs": [],
   "source": [
    "from sklearn.tree import DecisionTreeClassifier\n",
    "from sklearn.model_selection import GridSearchCV"
   ]
  },
  {
   "cell_type": "code",
   "execution_count": 43,
   "metadata": {},
   "outputs": [
    {
     "name": "stdout",
     "output_type": "stream",
     "text": [
      "Tham số tốt nhất Decision Tree: {'criterion': 'gini', 'max_depth': 10}\n"
     ]
    }
   ],
   "source": [
    "# Khởi tạo mô hình\n",
    "dt = DecisionTreeClassifier()\n",
    "\n",
    "# Định nghĩa lưới tham số\n",
    "param_grid = {\n",
    "    'max_depth': [3, 5, 10, None],\n",
    "    'criterion': ['gini', 'entropy']\n",
    "}\n",
    "\n",
    "# Tìm tham số tốt nhất bằng GridSearchCV\n",
    "grid_search_dt = GridSearchCV(dt, param_grid, cv=5, scoring='accuracy',error_score='raise')\n",
    "grid_search_dt.fit(X_train, y_train)\n",
    "\n",
    "# Lấy mô hình tốt nhất\n",
    "best_dt = grid_search_dt.best_estimator_\n",
    "print(\"Tham số tốt nhất Decision Tree:\", grid_search_dt.best_params_)"
   ]
  },
  {
   "cell_type": "markdown",
   "metadata": {},
   "source": [
    "#### Random Forest"
   ]
  },
  {
   "cell_type": "code",
   "execution_count": 44,
   "metadata": {},
   "outputs": [
    {
     "name": "stdout",
     "output_type": "stream",
     "text": [
      "Tham số tốt nhất Random Forest: {'bootstrap': True, 'max_features': 'sqrt', 'n_estimators': 50}\n"
     ]
    }
   ],
   "source": [
    "from sklearn.ensemble import RandomForestClassifier\n",
    "\n",
    "# Khởi tạo mô hình\n",
    "rf = RandomForestClassifier()\n",
    "\n",
    "# Định nghĩa lưới tham số\n",
    "param_grid = {\n",
    "    'n_estimators': [50, 100],\n",
    "    'max_features': ['sqrt'],\n",
    "    'bootstrap': [True, False]\n",
    "}\n",
    "\n",
    "# Tìm tham số tốt nhất\n",
    "grid_search_rf = GridSearchCV(rf, param_grid, cv=5, scoring='accuracy')\n",
    "grid_search_rf.fit(X_train, y_train)\n",
    "\n",
    "# Lấy mô hình tốt nhất\n",
    "best_rf = grid_search_rf.best_estimator_\n",
    "print(\"Tham số tốt nhất Random Forest:\", grid_search_rf.best_params_)"
   ]
  },
  {
   "cell_type": "markdown",
   "metadata": {},
   "source": [
    "#### Naive Bayes"
   ]
  },
  {
   "cell_type": "code",
   "execution_count": 45,
   "metadata": {},
   "outputs": [
    {
     "name": "stdout",
     "output_type": "stream",
     "text": [
      "Tham số tốt nhất Naive Bayes: {'var_smoothing': 1e-07}\n"
     ]
    }
   ],
   "source": [
    "from sklearn.naive_bayes import GaussianNB\n",
    "\n",
    "# Khởi tạo mô hình\n",
    "nb = GaussianNB()\n",
    "\n",
    "# Định nghĩa lưới tham số\n",
    "param_grid = {\n",
    "    'var_smoothing': [1e-9, 1e-8, 1e-7]\n",
    "}\n",
    "\n",
    "# Tìm tham số tốt nhất\n",
    "grid_search_nb = GridSearchCV(nb, param_grid, cv=5, scoring='accuracy')\n",
    "grid_search_nb.fit(X_train, y_train)\n",
    "\n",
    "# Lấy mô hình tốt nhất\n",
    "best_nb = grid_search_nb.best_estimator_\n",
    "print(\"Tham số tốt nhất Naive Bayes:\", grid_search_nb.best_params_)"
   ]
  },
  {
   "cell_type": "markdown",
   "metadata": {},
   "source": [
    "#### Support Vector Machine (SVM)"
   ]
  },
  {
   "cell_type": "code",
   "execution_count": null,
   "metadata": {},
   "outputs": [],
   "source": [
    "from sklearn.svm import SVC\n",
    "\n",
    "# Khởi tạo mô hình\n",
    "svm = SVC(probability=True)  # probability=True để tính ROC sau này\n",
    "\n",
    "# Định nghĩa lưới tham số\n",
    "param_grid = {\n",
    "    'kernel': ['linear', 'rbf'],\n",
    "    'C': [0.1, 1],\n",
    "    'gamma': ['scale', 'auto']\n",
    "}\n",
    "\n",
    "# Tìm tham số tốt nhất\n",
    "grid_search_svm = GridSearchCV(svm, param_grid, cv=5, scoring='accuracy')\n",
    "grid_search_svm.fit(X_train, y_train)\n",
    "\n",
    "# Lấy mô hình tốt nhất\n",
    "best_svm = grid_search_svm.best_estimator_\n",
    "print(\"Tham số tốt nhất SVM:\", grid_search_svm.best_params_)"
   ]
  },
  {
   "cell_type": "markdown",
   "metadata": {},
   "source": [
    "#### Multilayer Perceptron (MLP)"
   ]
  },
  {
   "cell_type": "code",
   "execution_count": null,
   "metadata": {},
   "outputs": [],
   "source": [
    "from sklearn.neural_network import MLPClassifier\n",
    "\n",
    "# Khởi tạo mô hình\n",
    "mlp = MLPClassifier(max_iter=500)  # Tăng số lần lặp để hội tụ\n",
    "\n",
    "# Định nghĩa lưới tham số\n",
    "param_grid = {\n",
    "    'hidden_layer_sizes': [(50,), (100,)],\n",
    "    'activation': ['relu', 'tanh'],\n",
    "    'learning_rate_init': [0.001, 0.01]\n",
    "}\n",
    "\n",
    "# Tìm tham số tốt nhất\n",
    "grid_search_mlp = GridSearchCV(mlp, param_grid, cv=5, scoring='accuracy')\n",
    "grid_search_mlp.fit(X_train, y_train)\n",
    "\n",
    "# Lấy mô hình tốt nhất\n",
    "best_mlp = grid_search_mlp.best_estimator_\n",
    "print(\"Tham số tốt nhất MLP:\", grid_search_mlp.best_params_)"
   ]
  }
 ],
 "metadata": {
  "kernelspec": {
   "display_name": "Python 3",
   "language": "python",
   "name": "python3"
  },
  "language_info": {
   "codemirror_mode": {
    "name": "ipython",
    "version": 3
   },
   "file_extension": ".py",
   "mimetype": "text/x-python",
   "name": "python",
   "nbconvert_exporter": "python",
   "pygments_lexer": "ipython3",
   "version": "3.10.11"
  }
 },
 "nbformat": 4,
 "nbformat_minor": 2
}
